{
  "nbformat": 4,
  "nbformat_minor": 0,
  "metadata": {
    "colab": {
      "provenance": [],
      "authorship_tag": "ABX9TyPOG34Xp2z7Tov4LJiE1vJh",
      "include_colab_link": true
    },
    "kernelspec": {
      "name": "python3",
      "display_name": "Python 3"
    },
    "language_info": {
      "name": "python"
    }
  },
  "cells": [
    {
      "cell_type": "markdown",
      "metadata": {
        "id": "view-in-github",
        "colab_type": "text"
      },
      "source": [
        "<a href=\"https://colab.research.google.com/github/SofContreras/colabTest/blob/main/Ejemplo_I.ipynb\" target=\"_parent\"><img src=\"https://colab.research.google.com/assets/colab-badge.svg\" alt=\"Open In Colab\"/></a>"
      ]
    },
    {
      "cell_type": "code",
      "execution_count": null,
      "metadata": {
        "id": "i3nrWU8LR23a"
      },
      "outputs": [],
      "source": [
        "import numpy as np"
      ]
    },
    {
      "cell_type": "code",
      "source": [
        "#Lista: a=[1,2,3] -> Lectura y escritura\n",
        "#Secuencia: a=(1,2,3) -> Sólo de lectura"
      ],
      "metadata": {
        "id": "tyLU4yEqawSI"
      },
      "execution_count": null,
      "outputs": []
    },
    {
      "cell_type": "code",
      "source": [
        "a=np.ndarray(shape=(2,3)) #Eje 0: filas, Eje 1: columnas"
      ],
      "metadata": {
        "id": "3l1vD3OhSHvV"
      },
      "execution_count": null,
      "outputs": []
    },
    {
      "cell_type": "code",
      "source": [
        "c=[1,2,3]\n",
        "b=np.ndarray(c)"
      ],
      "metadata": {
        "id": "BzboWNfCS9S5"
      },
      "execution_count": null,
      "outputs": []
    },
    {
      "cell_type": "code",
      "source": [
        "arr=np.array([[1,2,3,4,5],[4,5,6,7,8],[7,8,9,10,11]]) #3 filas, 4 columnas\n",
        "arr\n",
        "#arr.shape #Regresa las dimensiones\n",
        "#arr.dtype #Regresa el tipo de datos "
      ],
      "metadata": {
        "colab": {
          "base_uri": "https://localhost:8080/"
        },
        "id": "6KDAH21RTdkh",
        "outputId": "2b1ef811-aa76-421a-816d-28c9c7ffb0ee"
      },
      "execution_count": null,
      "outputs": [
        {
          "output_type": "execute_result",
          "data": {
            "text/plain": [
              "array([[ 1,  2,  3,  4,  5],\n",
              "       [ 4,  5,  6,  7,  8],\n",
              "       [ 7,  8,  9, 10, 11]])"
            ]
          },
          "metadata": {},
          "execution_count": 28
        }
      ]
    },
    {
      "cell_type": "code",
      "source": [
        "arr[:2,1:] #Slicing\n",
        "arr[2] #Devuele toda la fila 2 -> dimensión 0\n",
        "arr[1,:2]\n",
        "arr[[0,1],[1,2]]"
      ],
      "metadata": {
        "colab": {
          "base_uri": "https://localhost:8080/"
        },
        "id": "gIAiJGLEVz_b",
        "outputId": "a49db727-4f37-4d6a-ecbb-e62c3c619fcb"
      },
      "execution_count": null,
      "outputs": [
        {
          "output_type": "execute_result",
          "data": {
            "text/plain": [
              "array([2, 6])"
            ]
          },
          "metadata": {},
          "execution_count": 29
        }
      ]
    },
    {
      "cell_type": "code",
      "source": [
        "arr.tolist()\n",
        "arr.fill(2002)\n",
        "f=np.random.random((4,3,2))\n",
        "f.min()"
      ],
      "metadata": {
        "colab": {
          "base_uri": "https://localhost:8080/"
        },
        "id": "JUC_xLvBXn3c",
        "outputId": "c35c605b-1610-4bb5-9b01-46045b5e4413"
      },
      "execution_count": null,
      "outputs": [
        {
          "output_type": "execute_result",
          "data": {
            "text/plain": [
              "0.02460415406455896"
            ]
          },
          "metadata": {},
          "execution_count": 40
        }
      ]
    },
    {
      "cell_type": "code",
      "source": [
        "#Guardar en un archivo txt\n",
        "from numpy import asarray\n",
        "from numpy import savetxt\n",
        "\n",
        "data=asarray([[0,1,2,3,4]])\n",
        "savetxt () #Completar el código -> BS"
      ],
      "metadata": {
        "id": "i6BXw0CCcPen"
      },
      "execution_count": null,
      "outputs": []
    },
    {
      "cell_type": "code",
      "source": [],
      "metadata": {
        "id": "k9STO5tOcd5h"
      },
      "execution_count": null,
      "outputs": []
    }
  ]
}